{
  "nbformat": 4,
  "nbformat_minor": 0,
  "metadata": {
    "colab": {
      "provenance": [],
      "authorship_tag": "ABX9TyNStbzE2HnAp8tPEFKZEdz0"
    },
    "kernelspec": {
      "name": "python3",
      "display_name": "Python 3"
    },
    "language_info": {
      "name": "python"
    }
  },
  "cells": [
    {
      "cell_type": "code",
      "source": [
        "import iapws\n",
        "from iapws import IAPWS97 as gas\n",
        "MPa = 10 ** 6\n",
        "kPa = 10 ** 3\n",
        "unit = 1 / MPa\n",
        "to_kelvin = lambda x: x + 273.15 if x else None\n",
        "# Начальные параметры:\n",
        "p_0 = 9 * MPa\n",
        "p_k = 5 * kPa\n",
        "t_0 = to_kelvin(520)\n",
        "# Определим точки, которые нам нужны\n",
        "\n",
        "point_0 = gas(P=p_0 * unit, T=t_0)\n",
        "point_condenser_inlet = gas(P=p_k * unit, s=point_0.s)\n",
        "point_pump_outlet = gas(P=p_k * unit, x=0)\n",
        "useful_energy = point_0.h - point_condenser_inlet.h\n",
        "full_energy = point_0.h - point_pump_outlet.h\n",
        "\n",
        "efficiency = useful_energy / full_energy\n",
        "print(\"Ответ на задачу 1:\", round(efficiency * 100, 3), \"%\")\n"
      ],
      "metadata": {
        "colab": {
          "base_uri": "https://localhost:8080/",
          "height": 373
        },
        "id": "qu9iY4OEuiBU",
        "outputId": "329260de-ee2f-4950-a590-8d0026faa00d"
      },
      "execution_count": 3,
      "outputs": [
        {
          "output_type": "error",
          "ename": "ModuleNotFoundError",
          "evalue": "ignored",
          "traceback": [
            "\u001b[0;31m---------------------------------------------------------------------------\u001b[0m",
            "\u001b[0;31mModuleNotFoundError\u001b[0m                       Traceback (most recent call last)",
            "\u001b[0;32m<ipython-input-3-b5ee68da9f09>\u001b[0m in \u001b[0;36m<module>\u001b[0;34m\u001b[0m\n\u001b[0;32m----> 1\u001b[0;31m \u001b[0;32mimport\u001b[0m \u001b[0miapws\u001b[0m\u001b[0;34m\u001b[0m\u001b[0;34m\u001b[0m\u001b[0m\n\u001b[0m\u001b[1;32m      2\u001b[0m \u001b[0;32mfrom\u001b[0m \u001b[0miapws\u001b[0m \u001b[0;32mimport\u001b[0m \u001b[0mIAPWS97\u001b[0m \u001b[0;32mas\u001b[0m \u001b[0mgas\u001b[0m\u001b[0;34m\u001b[0m\u001b[0;34m\u001b[0m\u001b[0m\n\u001b[1;32m      3\u001b[0m \u001b[0mMPa\u001b[0m \u001b[0;34m=\u001b[0m \u001b[0;36m10\u001b[0m \u001b[0;34m**\u001b[0m \u001b[0;36m6\u001b[0m\u001b[0;34m\u001b[0m\u001b[0;34m\u001b[0m\u001b[0m\n\u001b[1;32m      4\u001b[0m \u001b[0mkPa\u001b[0m \u001b[0;34m=\u001b[0m \u001b[0;36m10\u001b[0m \u001b[0;34m**\u001b[0m \u001b[0;36m3\u001b[0m\u001b[0;34m\u001b[0m\u001b[0;34m\u001b[0m\u001b[0m\n\u001b[1;32m      5\u001b[0m \u001b[0munit\u001b[0m \u001b[0;34m=\u001b[0m \u001b[0;36m1\u001b[0m \u001b[0;34m/\u001b[0m \u001b[0mMPa\u001b[0m\u001b[0;34m\u001b[0m\u001b[0;34m\u001b[0m\u001b[0m\n",
            "\u001b[0;31mModuleNotFoundError\u001b[0m: No module named 'iapws'",
            "",
            "\u001b[0;31m---------------------------------------------------------------------------\u001b[0;32m\nNOTE: If your import is failing due to a missing package, you can\nmanually install dependencies using either !pip or !apt.\n\nTo view examples of installing some common dependencies, click the\n\"Open Examples\" button below.\n\u001b[0;31m---------------------------------------------------------------------------\u001b[0m\n"
          ],
          "errorDetails": {
            "actions": [
              {
                "action": "open_url",
                "actionText": "Open Examples",
                "url": "/notebooks/snippets/importing_libraries.ipynb"
              }
            ]
          }
        }
      ]
    },
    {
      "cell_type": "code",
      "source": [],
      "metadata": {
        "id": "fBq0OW-7uqs4"
      },
      "execution_count": null,
      "outputs": []
    }
  ]
}